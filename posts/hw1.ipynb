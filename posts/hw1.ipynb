{
 "cells": [
  {
   "cell_type": "raw",
   "metadata": {},
   "source": [
    "---\n",
    "title: \"hw1: 12월26일 숙제\"\n",
    "author: \"강정혁\"\n",
    "date: \"12/26/2024\"\n",
    "---"
   ]
  },
  {
   "cell_type": "code",
   "execution_count": 1,
   "metadata": {},
   "outputs": [
    {
     "ename": "SyntaxError",
     "evalue": "invalid syntax (3826502740.py, line 1)",
     "output_type": "error",
     "traceback": [
      "\u001b[0;36m  Cell \u001b[0;32mIn[1], line 1\u001b[0;36m\u001b[0m\n\u001b[0;31m    아래를 실행해보고 사용방법을 확인하라.\u001b[0m\n\u001b[0m        ^\u001b[0m\n\u001b[0;31mSyntaxError\u001b[0m\u001b[0;31m:\u001b[0m invalid syntax\n"
     ]
    }
   ],
   "source": [
    "아래를 실행해보고 사용방법을 확인하라. \n",
    "\n",
    "# 1. head: 파일의 처음 몇 줄 출력\n",
    "head -n 3 sample.txt\n",
    "\n",
    "# 2. tail: 파일의 마지막 몇 줄 출력\n",
    "tail -n 3 sample.txt\n",
    "\n",
    "# 3. cat: 파일 내용 출력\n",
    "cat sample.txt\n",
    "\n",
    "# cat: 파일 합치기\n",
    "cat file1.txt file2.txt > combined.txt\n",
    "\n",
    "# 4. df -h: 디스크 사용량 확인\n",
    "df -h\n",
    "\n",
    "# 5. du -sh *: 디렉토리 및 파일 크기 확인\n",
    "du -sh *\n",
    "\n",
    "# 6. nvidia-smi: GPU 상태 확인\n",
    "nvidia-smi\n",
    "\n",
    "# 7. ps aux: 현재 실행 중인 프로세스 확인\n",
    "ps aux\n",
    "\n",
    "# 8. grep: 특정 문자열 검색\n",
    "grep \"error\" sample.txt\n",
    "\n",
    "# 9. |: 파이프를 사용하여 명령어 결합\n",
    "ps aux | grep python\n",
    "\n",
    "# 10. >: 출력 결과를 파일로 저장\n",
    "df -h > disk_usage.txt\n",
    "\n",
    "# 11. which: 명령어의 실행 파일 경로 확인\n",
    "which python\n",
    "\n",
    "# 12. find: 파일 검색\n",
    "find . -name \"sample.txt\"\n",
    "\n",
    "# 13. pwd: 현재 위치 확인\n",
    "pwd "
   ]
  },
  {
   "cell_type": "code",
   "execution_count": null,
   "metadata": {},
   "outputs": [],
   "source": []
  }
 ],
 "metadata": {
  "kernelspec": {
   "display_name": "Python 3",
   "language": "python",
   "name": "python3"
  },
  "language_info": {
   "codemirror_mode": {
    "name": "ipython",
    "version": 3
   },
   "file_extension": ".py",
   "mimetype": "text/x-python",
   "name": "python",
   "nbconvert_exporter": "python",
   "pygments_lexer": "ipython3",
   "version": "3.12.1"
  }
 },
 "nbformat": 4,
 "nbformat_minor": 2
}
